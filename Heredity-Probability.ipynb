{
 "cells": [
  {
   "cell_type": "code",
   "execution_count": 1,
   "id": "98b557d3-ad8b-42ab-af5d-c4e1f2b08948",
   "metadata": {
    "tags": []
   },
   "outputs": [],
   "source": [
    "import random"
   ]
  },
  {
   "cell_type": "markdown",
   "id": "84228bc3-fd44-41ac-831e-926fe0eca34a",
   "metadata": {},
   "source": [
    "# Mendel's First Law\n",
    "\n",
    "P(Dominant) = Prob of at least one k + Prob of two m's * 75% + Prob of one m and one n * 50% "
   ]
  },
  {
   "cell_type": "code",
   "execution_count": 2,
   "id": "e10ce7dd-556c-4204-9ce1-cee0d0b4ddf5",
   "metadata": {
    "tags": []
   },
   "outputs": [],
   "source": [
    "# 0 = YY\n",
    "# 1 = Yy\n",
    "# 2 = yy\n",
    "def sim_dominant_probability(k, m, n):\n",
    "    total_population = k + m + n\n",
    "    population = k * [0] + m * [1] + n * [2]\n",
    "    sims = 100_000\n",
    "    cnt = 0\n",
    "\n",
    "    for i in range(0, sims):\n",
    "        mates = random.sample(population, 2)\n",
    "        if 0 in mates:\n",
    "            cnt += 1\n",
    "        elif mates == [1, 1]:\n",
    "            if random.random() < 0.75:\n",
    "                cnt += 1\n",
    "        elif 1 in mates and 2 in mates:\n",
    "            if random.random() < 0.50:\n",
    "                cnt += 1\n",
    "    return cnt / sims"
   ]
  },
  {
   "cell_type": "code",
   "execution_count": 3,
   "id": "3bca1161-ac65-48db-84b1-573aee85651b",
   "metadata": {
    "tags": []
   },
   "outputs": [
    {
     "name": "stdout",
     "output_type": "stream",
     "text": [
      "0.78533\n"
     ]
    }
   ],
   "source": [
    "k = 2\n",
    "m = 2\n",
    "n = 2\n",
    "result = sim_dominant_probability(k, m, n)\n",
    "print(result)"
   ]
  },
  {
   "cell_type": "code",
   "execution_count": 4,
   "id": "fe2a1a05-9f1a-4036-8720-4323fb014fbc",
   "metadata": {
    "tags": []
   },
   "outputs": [],
   "source": [
    "def dominant_probability(k, m, n):\n",
    "    total_population = k + m + n\n",
    "\n",
    "    k_first = k / total_population\n",
    "    kk = k_first * ((k - 1) / (total_population - 1))\n",
    "    km = k_first * (m / (total_population - 1))\n",
    "    kn = k_first * (n / (total_population - 1))\n",
    "\n",
    "    m_first = m / total_population\n",
    "    mk = m_first * (k / (total_population - 1))\n",
    "    mm = m_first * ((m - 1) / (total_population - 1))\n",
    "    mn = m_first * (n / (total_population - 1))\n",
    "\n",
    "    n_first = n / total_population\n",
    "    nk = n_first * (k / (total_population - 1))\n",
    "    nm = n_first * (m / (total_population - 1))\n",
    "    nn = n_first * ((n - 1) / (total_population - 1))\n",
    "\n",
    "    prob_k = kk + km + kn + mk + nk  # at least one k\n",
    "    prob_mn = mn + nm  # Prob of one 1 and one 2\n",
    "    return round(prob_k + mm * 0.75 + prob_mn * 0.5, 5)"
   ]
  },
  {
   "cell_type": "code",
   "execution_count": 5,
   "id": "0089be6d-bb85-450b-8705-54ed80ee150c",
   "metadata": {
    "tags": []
   },
   "outputs": [],
   "source": [
    "sample_input = \"2 2 2\"\n",
    "expected_output = 0.78333\n",
    "k, m, n = map(int, sample_input.split())\n",
    "output = dominant_probability(k, m, n)\n",
    "assert output == expected_output"
   ]
  },
  {
   "cell_type": "code",
   "execution_count": 6,
   "id": "aeef715f-7230-418f-9c29-e8ec45005dbb",
   "metadata": {
    "tags": []
   },
   "outputs": [
    {
     "name": "stdout",
     "output_type": "stream",
     "text": [
      "0.74456\n"
     ]
    }
   ],
   "source": [
    "fn = \"data/rosalind_iprb.txt\"\n",
    "with open(fn, \"r\") as file:\n",
    "    data = file.read().strip()\n",
    "k, m, n = map(int, data.split())\n",
    "print(dominant_probability(k, m, n))"
   ]
  },
  {
   "cell_type": "markdown",
   "id": "430e2f9b-085a-4426-8e19-a62a4a8675c2",
   "metadata": {},
   "source": [
    "# Calculating Expected Offspring"
   ]
  },
  {
   "cell_type": "code",
   "execution_count": 18,
   "id": "f465e7cc-ef22-47b2-a986-8390686c083a",
   "metadata": {
    "tags": []
   },
   "outputs": [],
   "source": [
    "def next_gen_dominant(a, b, c, d, e, f):\n",
    "    offspring = 2\n",
    "\n",
    "    # odds of dominant * offspring * number of couples\n",
    "\n",
    "    exp_1 = 1 * offspring * a\n",
    "    exp_2 = 1 * offspring * b\n",
    "    exp_3 = 1 * offspring * c\n",
    "    exp_4 = 0.75 * offspring * d\n",
    "    exp_5 = 0.5 * offspring * e\n",
    "    exp_6 = 0 * offspring * f\n",
    "\n",
    "    return exp_1 + exp_2 + exp_3 + exp_4 + exp_5 + exp_6"
   ]
  },
  {
   "cell_type": "code",
   "execution_count": 19,
   "id": "b506ed95-b366-4627-b0fa-de5ce6b5315d",
   "metadata": {
    "tags": []
   },
   "outputs": [
    {
     "name": "stdout",
     "output_type": "stream",
     "text": [
      "3.5\n"
     ]
    }
   ],
   "source": [
    "sample_input = \"1 0 0 1 0 1\"\n",
    "expected_output = 3.5\n",
    "a, b, c, d, e, f = map(int, sample_input.split())\n",
    "output = next_gen_dominant(a, b, c, d, e, f)\n",
    "print(output)\n",
    "assert output == expected_output"
   ]
  },
  {
   "cell_type": "code",
   "execution_count": 20,
   "id": "670034aa-5669-4c19-9dbb-9a653fb6f4cc",
   "metadata": {},
   "outputs": [
    {
     "name": "stdout",
     "output_type": "stream",
     "text": [
      "151218.5\n"
     ]
    }
   ],
   "source": [
    "fn = \"data/rosalind_iev.txt\"\n",
    "with open(fn, \"r\") as file:\n",
    "    data = file.read().strip()\n",
    "a, b, c, d, e, f = map(int, data.split())\n",
    "print(next_gen_dominant(a, b, c, d, e, f))"
   ]
  },
  {
   "cell_type": "code",
   "execution_count": null,
   "id": "f6433a9d-f853-4d6a-9b2c-b07ff1abd9c3",
   "metadata": {},
   "outputs": [],
   "source": []
  }
 ],
 "metadata": {
  "kernelspec": {
   "display_name": "Python 3",
   "language": "python",
   "name": "python3"
  },
  "language_info": {
   "codemirror_mode": {
    "name": "ipython",
    "version": 3
   },
   "file_extension": ".py",
   "mimetype": "text/x-python",
   "name": "python",
   "nbconvert_exporter": "python",
   "pygments_lexer": "ipython3",
   "version": "3.8.17"
  }
 },
 "nbformat": 4,
 "nbformat_minor": 5
}
