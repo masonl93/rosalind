{
 "cells": [
  {
   "cell_type": "markdown",
   "id": "b5f031ad-82ac-449e-b0dd-fd54316de01c",
   "metadata": {},
   "source": [
    "# Counting DNA Nucleotides"
   ]
  },
  {
   "cell_type": "code",
   "execution_count": 22,
   "id": "2b99cf90-bfa9-4148-9870-fc817dcc59fe",
   "metadata": {
    "tags": []
   },
   "outputs": [],
   "source": [
    "def count_symbols_in_dna(dna_string):\n",
    "    count_A, count_C, count_G, count_T = 0, 0, 0, 0\n",
    "\n",
    "    for symbol in dna_string:\n",
    "        if symbol == \"A\":\n",
    "            count_A += 1\n",
    "        elif symbol == \"C\":\n",
    "            count_C += 1\n",
    "        elif symbol == \"G\":\n",
    "            count_G += 1\n",
    "        elif symbol == \"T\":\n",
    "            count_T += 1\n",
    "\n",
    "    return f\"{count_A} {count_C} {count_G} {count_T}\"\n",
    "\n",
    "\n",
    "sample_input = \"AGCTTTTCATTCTGACTGCAACGGGCAATATGTCTCTGTGTGGATTAAAAAAAGAGTGTCTGATAGCAGC\"\n",
    "expected_output = \"20 12 17 21\"\n",
    "counts = count_symbols_in_dna(sample_input)\n",
    "assert counts == expected_output"
   ]
  },
  {
   "cell_type": "code",
   "execution_count": 3,
   "id": "75ffb660-ccf9-41b8-b445-bed267ef6372",
   "metadata": {
    "tags": []
   },
   "outputs": [
    {
     "name": "stdout",
     "output_type": "stream",
     "text": [
      "194 197 226 188\n"
     ]
    }
   ],
   "source": [
    "fn = \"data/rosalind_dna.txt\"\n",
    "with open(fn, \"r\") as file:\n",
    "    dna_string = file.read().strip()\n",
    "\n",
    "print(count_symbols_in_dna(dna_string))"
   ]
  },
  {
   "cell_type": "markdown",
   "id": "99ab43fd-7677-4f67-ad74-1c791ef3ba0f",
   "metadata": {},
   "source": [
    "# Transcribing DNA into RNA"
   ]
  },
  {
   "cell_type": "code",
   "execution_count": 4,
   "id": "d65f39b4-c3ff-4a3a-b52b-680d53fd2168",
   "metadata": {
    "tags": []
   },
   "outputs": [],
   "source": [
    "def transcribe(t):\n",
    "    return t.replace(\"T\", \"U\")"
   ]
  },
  {
   "cell_type": "code",
   "execution_count": 5,
   "id": "15d5f713-89bc-4248-8d3d-cd08859ca0e1",
   "metadata": {
    "tags": []
   },
   "outputs": [],
   "source": [
    "sample_input = \"GATGGAACTTGACTACGTAAATT\"\n",
    "expected_output = \"GAUGGAACUUGACUACGUAAAUU\"\n",
    "output = transcribe(sample_input)\n",
    "assert output == expected_output"
   ]
  },
  {
   "cell_type": "code",
   "execution_count": 6,
   "id": "6e5ea8e5-3a0c-47b8-84cd-4f30b10a457a",
   "metadata": {
    "tags": []
   },
   "outputs": [
    {
     "name": "stdout",
     "output_type": "stream",
     "text": [
      "CCCUUCCUAGAACCGCAGUGUGUUCGUGUGGAGCAUAAUGUCCUAAUGAGAGGUUUAGGAGACGGGACUCGGUCACGCAACGGUAAGCUUGACAUGGUGGCGGACCUGGUGUUGAUACCUUACGUUGUCAUUACGUCCAGGGCCCGCUGUAGGCCCCUGCGGUACGCGACGAGUAUCUUUGCGAGACCGCCAGUACUAAAUCGCAUCGUGGUGUUCCUACACCAGUUUCGUCUUGCCAUCUCCUGUCCAACGCUCAUAAAUAGUAUUCGAAUAGGAACUCUGGAGGCCAGUGGGAAGUCACCCCGAUUAUCUAGGUGGAGGCAAGGCAAAGCGUGUGGCAAAUUAAGGCGCGUCAAAGAAUACCUGGACUCCUACCGGUUGUCUAUGGACCUCGUUACGUCAAGGGCUUUCCAUAGAUCGAUCUAGCGUUCGGCCUGGAGGAGAGAAUCGUAACAUGCUAAGUUGCUAUUGAAGUCAAGGCAGCGGCCUGCCAUGACCUUUGGACCGCCGUCGCCUCACAAGGAGCAUGUUGCCAGAAUCGAGGUUAUCGCAGAGUCAGUGCGACGUAGUGCCCUACGAUAUAAAGCCACUGUUGUGGUAGAUAUGAAAUCUUGAUCCGAUUCGUCAAGAAAAUCUAAAUGGCACGCCAUAUGGAUGGUUCGUCCUCCAUAAACGCCUGCGAGAUCCUCAGCAAUUCUAGAUUGAGAGUUCUACGUUCCCAUGAUAGUACGGAAUUUCUGUCCUAACAUUGCGUAGAAGUCCUUUGGUCUCCCAGAGUCCUAAGGUUCGUUUGGCAAUUGUAGCCGAGGGCAGAAGUUUUGUGGAAUCCAUCUAAUGGCGGCUUACGUCCAUACAAAACUAAUUUAACGGAACGGCAUACUACAAGCUGUGACUAUAGCAUACAGUGGCUUCAUAUAAGCGGCGCUCCAGGAGUGAAGAUAUAGUCGCGUCGCCCGCCUGUAUGCGUAGGCACGUUCGGCUCUGGCA\n"
     ]
    }
   ],
   "source": [
    "fn = \"data/rosalind_rna.txt\"\n",
    "with open(fn, \"r\") as file:\n",
    "    dna_string = file.read().strip()\n",
    "\n",
    "print(transcribe(dna_string))"
   ]
  },
  {
   "cell_type": "markdown",
   "id": "b163ecf4-d138-4671-9a2d-ead1b063c4c7",
   "metadata": {},
   "source": [
    "# Complementing a Strand of DNA"
   ]
  },
  {
   "cell_type": "code",
   "execution_count": 15,
   "id": "341de732-a095-4aab-b231-103f27861eef",
   "metadata": {
    "tags": []
   },
   "outputs": [],
   "source": [
    "def complement_strand(dna):\n",
    "    dna = dna.lower()\n",
    "    comps = {\"a\": \"t\", \"t\": \"a\", \"c\": \"g\", \"g\": \"c\"}\n",
    "    reversed_dna = dna[::-1]\n",
    "    return \"\".join([comps.get(char, char) for char in reversed_dna]).upper()"
   ]
  },
  {
   "cell_type": "code",
   "execution_count": 17,
   "id": "f8b855dc-c805-4013-927a-0f9589f19f54",
   "metadata": {
    "tags": []
   },
   "outputs": [],
   "source": [
    "sample_input = \"AAAACCCGGT\"\n",
    "expected_output = \"ACCGGGTTTT\"\n",
    "output = complement_strand(sample_input)\n",
    "assert output == expected_output"
   ]
  },
  {
   "cell_type": "code",
   "execution_count": 20,
   "id": "ec1f3c77-d9ac-4dce-952a-3d70dc812efd",
   "metadata": {
    "tags": []
   },
   "outputs": [
    {
     "name": "stdout",
     "output_type": "stream",
     "text": [
      "CGAACTGTTGCCGTTGTGGGTAAATCTTAGTACCGCTCTTTGTTCAAGATAAGCGATTCTTTACCACATCACCCCACAGACTAGCTTACAGGTAATTCACCAAGCCCTGCTGCATACCATTCAGTTGTTTGTAGCTGACGAAATCGTGAATTAATCGTGCGCCTGCCTAATTGAAGAACTAATCCACCCAGAGCGCACGAGCCTCCATGGTAAGTTCCGCATAGTTTGATACGTCCATCTCCCATTGGATTCCTAACAGGTTCGTGTCACGTCCGAGAACCTAACGGATGTGAATAGCTCACATTGATGCCGCTAGCAGGGTCCCAGAAGCAACGGGGCCGTGGCAATTTCGCCAGTTATGCGATAGGCCTATTACGGATAGTCCAGTTGCAGGGCCACTGGTCGAGGATTCGGGCGTTGCCGATAAGGTAATCAAGGGCCGCGGCGGTAGGTTCTGTCCCACCATTAGTTTTGCCTCGTACGTGGCGCTTCGACTAATCATACCTGTCCTACGTTCGGTGCCCCTCATCTATTCTCCTTGCTGGATGGCATTAGAGGACTACGGTGTTGTTTCGCAACAATCAGGTTTGGCTAGTAATGGTCCGTTCAAAGGATCCACTCTAATTAATCTAATAGTTCGGCTGACTACGATTAACCAACGGCGGGTACCACTTTTCTAGTGGTTGCTAAAAATCCACTTTGCACGTAGACAGTTCCGCCACTCGGACCAAGAATACCGGCTAGCGAGCACTTTTTGACCGTCAGGATGCTGCGTACTGGGGTCACATGTGGCTCTCCAGACGTGTACGATCTAAGACAGTTTGCCAAGTAGTCCCGTCGGATTACGGGCTGGCCTAGTGCGTACTATGTTAGTTTGCTAGTCTACGTAAGACTGTCGTGGATGTTCTACAGCCCGAATTTCAGAGTGATTCACTGCTTACTCCTACTATAGATATAA\n"
     ]
    }
   ],
   "source": [
    "fn = \"data/rosalind_revc.txt\"\n",
    "with open(fn, \"r\") as file:\n",
    "    dna_string = file.read().strip()\n",
    "\n",
    "print(complement_strand(dna_string))"
   ]
  },
  {
   "cell_type": "markdown",
   "id": "ead160c1-a4d0-4719-9d1f-173a010349ab",
   "metadata": {},
   "source": [
    "# Computing GC Content"
   ]
  },
  {
   "cell_type": "code",
   "execution_count": 24,
   "id": "efffc58c-14ed-40a7-9174-da555278d00f",
   "metadata": {},
   "outputs": [],
   "source": [
    "def get_gc_content(input_string):\n",
    "    sequences = input_string.split(\">\")\n",
    "    sequences = [s.strip() for s in sequences if s.strip()]\n",
    "\n",
    "    result_dict = {}\n",
    "\n",
    "    for sequence in sequences:\n",
    "        lines = sequence.split(\"\\n\", 1)\n",
    "        name = lines[0]\n",
    "        value = lines[1].replace(\"\\n\", \"\")\n",
    "        result_dict[name] = value\n",
    "\n",
    "    highest_gc = {}\n",
    "\n",
    "    for name, value in result_dict.items():\n",
    "        count_c = value.count(\"C\")\n",
    "        count_g = value.count(\"G\")\n",
    "        gc = round((count_c + count_g) / len(value) * 100, 6)\n",
    "        if len(highest_gc) == 0 or gc > highest_gc[\"gc\"]:\n",
    "            highest_gc[\"label\"] = name\n",
    "            highest_gc[\"gc\"] = gc\n",
    "\n",
    "    return f\"{highest_gc['label']}\\n{highest_gc['gc']}\""
   ]
  },
  {
   "cell_type": "code",
   "execution_count": 27,
   "id": "f67aeac0-6da7-42ff-9270-b5e2d45c97c3",
   "metadata": {},
   "outputs": [
    {
     "name": "stdout",
     "output_type": "stream",
     "text": [
      "Rosalind_0808\n",
      "60.91954\n"
     ]
    }
   ],
   "source": [
    "sample_input = \"\"\">Rosalind_6404\n",
    "CCTGCGGAAGATCGGCACTAGAATAGCCAGAACCGTTTCTCTGAGGCTTCCGGCCTTCCC\n",
    "TCCCACTAATAATTCTGAGG\n",
    ">Rosalind_5959\n",
    "CCATCGGTAGCGCATCCTTAGTCCAATTAAGTCCCTATCCAGGCGCTCCGCCGAAGGTCT\n",
    "ATATCCATTTGTCAGCAGACACGC\n",
    ">Rosalind_0808\n",
    "CCACCCTCGTGGTATGGCTAGGCATTCAGGAACCGGAGAACGCTTCAGACCAGCCCGGAC\n",
    "TGGGAACCTGCGGGCAGTAGGTGGAAT\"\"\"\n",
    "expected_output = \"\"\"Rosalind_0808\n",
    "60.91954\"\"\"\n",
    "output = get_gc_content(sample_input)\n",
    "print(output)\n",
    "assert output == expected_output"
   ]
  },
  {
   "cell_type": "code",
   "execution_count": 28,
   "id": "1ae4c51e-96ab-4d4b-bd3a-c4f9d5f8ff18",
   "metadata": {},
   "outputs": [
    {
     "name": "stdout",
     "output_type": "stream",
     "text": [
      "Rosalind_9583\n",
      "53.139535\n"
     ]
    }
   ],
   "source": [
    "fn = \"data/rosalind_gc.txt\"\n",
    "with open(fn, \"r\") as file:\n",
    "    gc_string = file.read().strip()\n",
    "\n",
    "print(get_gc_content(gc_string))"
   ]
  },
  {
   "cell_type": "markdown",
   "id": "ea9e9968-a4a4-4990-a4b0-ecc44c6539ef",
   "metadata": {},
   "source": [
    "# Finding a Motif in DNA"
   ]
  },
  {
   "cell_type": "code",
   "execution_count": 23,
   "id": "b58e3c98-461a-4790-8bea-02063ed3be4b",
   "metadata": {},
   "outputs": [],
   "source": [
    "def get_sub_str_idx(d):\n",
    "    s, t = d.split()\n",
    "\n",
    "    positions = []\n",
    "    start = 0\n",
    "    while True:\n",
    "        position = s.find(t, start)\n",
    "\n",
    "        if position == -1:\n",
    "            break\n",
    "\n",
    "        positions.append(position + 1)\n",
    "        start = position + 1\n",
    "\n",
    "    return \" \".join(str(i) for i in positions)"
   ]
  },
  {
   "cell_type": "code",
   "execution_count": 24,
   "id": "4d9a9ec1-444b-4396-b30f-cd95f82ea7f1",
   "metadata": {},
   "outputs": [
    {
     "name": "stdout",
     "output_type": "stream",
     "text": [
      "2 4 10\n"
     ]
    }
   ],
   "source": [
    "sample_input = \"\"\"GATATATGCATATACTT\n",
    "ATAT\"\"\"\n",
    "expected_output = \"2 4 10\"\n",
    "output = get_sub_str_idx(sample_input)\n",
    "print(output)\n",
    "assert output == expected_output"
   ]
  },
  {
   "cell_type": "code",
   "execution_count": 25,
   "id": "050bfee4-5bd5-4e56-8e57-8b900cd90795",
   "metadata": {},
   "outputs": [
    {
     "name": "stdout",
     "output_type": "stream",
     "text": [
      "6 23 78 95 129 147 154 161 200 342 349 400 433 451 458 501 510 527 534 558 595 613 665 702 759 796 803 812 853 860 867 885\n"
     ]
    }
   ],
   "source": [
    "fn = \"data/rosalind_subs.txt\"\n",
    "with open(fn, \"r\") as file:\n",
    "    dna = file.read().strip()\n",
    "\n",
    "print(get_sub_str_idx(dna))"
   ]
  },
  {
   "cell_type": "markdown",
   "id": "2b080092-7616-4112-ac76-8b3e0ea7ee03",
   "metadata": {},
   "source": [
    "# Consensus and Profile"
   ]
  },
  {
   "cell_type": "code",
   "execution_count": 94,
   "id": "ed9771e4-0fe4-4d3b-8045-c17ed7189ca8",
   "metadata": {},
   "outputs": [],
   "source": [
    "import collections"
   ]
  },
  {
   "cell_type": "code",
   "execution_count": 95,
   "id": "7912c369-54f9-4e8f-b862-f57839a983e4",
   "metadata": {},
   "outputs": [],
   "source": [
    "def get_profile_matrix(input_string):\n",
    "    sequences = input_string.split(\">\")\n",
    "    sequences = [s.strip() for s in sequences if s.strip()]\n",
    "\n",
    "    dna = []\n",
    "    for sequence in sequences:\n",
    "        lines = sequence.split(\"\\n\", 1)\n",
    "        # name = lines[0]\n",
    "        value = lines[1].replace(\"\\n\", \"\")\n",
    "        dna.append(value)\n",
    "\n",
    "    most_common_chars = []\n",
    "    counts = []\n",
    "    transposed = list(zip(*dna))\n",
    "    for chars in transposed:\n",
    "        counter = collections.Counter(chars)\n",
    "        most_common_chars.append(counter.most_common(1)[0][0])\n",
    "        counts.append(counter)\n",
    "\n",
    "    output = \"\".join(most_common_chars)\n",
    "    a_str = \"A:\"\n",
    "    c_str = \"C:\"\n",
    "    g_str = \"G:\"\n",
    "    t_str = \"T:\"\n",
    "\n",
    "    for c in counts:\n",
    "        a_str += \" \" + str(c[\"A\"])\n",
    "        c_str += \" \" + str(c[\"C\"])\n",
    "        g_str += \" \" + str(c[\"G\"])\n",
    "        t_str += \" \" + str(c[\"T\"])\n",
    "    output += \"\\n\" + a_str + \"\\n\" + c_str + \"\\n\" + g_str + \"\\n\" + t_str\n",
    "    return output"
   ]
  },
  {
   "cell_type": "code",
   "execution_count": 96,
   "id": "b81e8e2b-d41f-4e36-bc72-e7b38a482dae",
   "metadata": {},
   "outputs": [
    {
     "name": "stdout",
     "output_type": "stream",
     "text": [
      "ATGCAACT\n",
      "A: 5 1 0 0 5 5 0 0\n",
      "C: 0 0 1 4 2 0 6 1\n",
      "G: 1 1 6 3 0 1 0 0\n",
      "T: 1 5 0 0 0 1 1 6\n"
     ]
    }
   ],
   "source": [
    "sample_input = \"\"\">Rosalind_1\n",
    "ATCCAGCT\n",
    ">Rosalind_2\n",
    "GGGCAACT\n",
    ">Rosalind_3\n",
    "ATGGATCT\n",
    ">Rosalind_4\n",
    "AAGCAACC\n",
    ">Rosalind_5\n",
    "TTGGAACT\n",
    ">Rosalind_6\n",
    "ATGCCATT\n",
    ">Rosalind_7\n",
    "ATGGCACT\"\"\"\n",
    "expected_output = \"\"\"ATGCAACT\n",
    "A: 5 1 0 0 5 5 0 0\n",
    "C: 0 0 1 4 2 0 6 1\n",
    "G: 1 1 6 3 0 1 0 0\n",
    "T: 1 5 0 0 0 1 1 6\"\"\"\n",
    "output = get_profile_matrix(sample_input)\n",
    "print(output)\n",
    "assert output == expected_output"
   ]
  },
  {
   "cell_type": "code",
   "execution_count": 97,
   "id": "f62d9511-6548-4648-ab57-aee4ba071f32",
   "metadata": {},
   "outputs": [
    {
     "name": "stdout",
     "output_type": "stream",
     "text": [
      "GTATAGTAACACGTAGACCATCATGGCGTTGATCTAGTTTTTGACCCGTCCATGCATTATACTTACTAGTAAGGAATCACGGAGCCTCCTATTCACAATATTAGAACGGCGACTTAGCGGGACTCTATCTAATCTTGTAAGTTTACACAGTCCGCCAGGGTCCGGGATAGGTACATGGCTCGAAATGTGCAGCGGGAAGATCCGTAGTTGCAATCACTGGGAGGGGCTTGGATGGACTCCTCGGTCATGGGTGGCGAACCAGGGGCATAAATCCCTCCTATTCCATCGTATTCCTAGAGGGCAGGATATCATAGACAGATCGTGCGCAACGCCGTTGCCAGGCGACACGCACCGCACATTAGATACATCTACGCGGTAATGAATCCGGGAAACACGGGCCAGCTAATATAGGATACGGATGTATGTAAGGTCTTTTTCTCGAGATTAAGGTACTCCCCTATAGGGTCAATCTTAGCGCCGAATGGCCAGCTTTGCCTTTAGTCCCGGGAGATCTCACTTCTGTGCGACCGCCGTCGATGGTACTCCATTAGTCCTCCTAAATCTTCTTCTAGCTTTGCAGAGTGCCTTTCTGTTATGCTGAAGCACGGCCTCCCAACCGGCGGTTGCGTTCACGCTAGTCAAATCCGTAGCCAACGTCAAACCAAACAAAAGACCGACGTGGCGCATCGTGTCCGAATATAGCTCACTGTCAAAAGACTGAGCAATCTCGCGATAGCGCCTGTCCGTTCATGCGATCTAAGTGTGACGTAACCACCGCTCGGTAACAAAAGGGGGCTTTAAGTCCTCAGGCATCAAGAGCGCTCGTGTTGTCTCCTCATCAGTGCATACCCTACGCATGAAAATTTTTGTGCAGGGGTTAGAGACGCGATAAGGTTGTAAGCAACGTTCGTGAATACGTCCGGCGTATTTGTCAGCATCACTCTTTATTGCAATGCCGAGGAATAACTCGATCTCCTATGTT\n",
      "A: 3 2 5 2 4 3 3 3 4 3 5 1 2 3 4 1 7 2 3 5 1 3 3 3 1 2 1 2 3 0 2 3 2 2 1 3 3 3 3 2 1 0 3 4 2 3 0 2 2 1 3 4 0 1 3 6 2 2 5 2 4 3 3 3 4 3 3 4 2 3 5 3 2 3 4 7 2 1 4 3 1 2 3 3 1 0 0 3 2 1 4 3 2 2 3 0 3 4 4 6 2 2 4 3 3 3 3 2 3 2 1 4 4 3 2 5 3 1 2 2 1 6 1 1 1 2 4 2 2 2 3 4 1 2 3 3 2 1 3 5 3 3 3 1 6 2 5 2 4 3 2 2 1 2 2 3 5 2 1 2 2 2 0 2 3 2 3 1 4 3 0 1 4 3 5 3 2 3 3 2 3 3 6 3 4 3 1 4 2 0 3 2 0 2 1 1 5 5 2 5 2 3 2 3 2 5 2 2 1 2 3 3 4 2 3 6 2 1 2 0 2 4 0 2 3 1 2 3 3 3 2 3 3 1 1 5 1 2 4 2 1 1 3 3 2 3 5 2 2 2 3 0 3 1 2 2 4 3 3 4 4 1 3 0 1 2 5 0 3 5 4 2 3 2 3 2 1 2 2 5 2 2 2 3 4 3 3 2 3 5 3 1 2 2 4 4 2 5 2 2 2 2 4 3 1 3 1 5 2 2 4 2 5 1 5 0 3 3 6 2 3 2 3 2 0 1 2 3 4 2 2 1 3 2 2 2 2 2 2 4 2 0 0 4 4 1 4 3 2 2 4 2 2 0 3 4 3 4 3 3 4 2 4 0 4 1 6 0 0 3 5 4 2 0 1 1 2 5 5 2 2 4 4 2 2 0 4 1 1 3 4 4 2 4 3 0 2 1 2 2 5 0 2 3 4 4 1 5 1 4 3 2 5 3 5 1 2 5 3 2 2 1 5 2 1 0 3 3 4 1 2 1 2 2 3 4 0 0 2 2 3 5 3 5 3 2 4 4 3 1 2 3 2 3 2 2 1 2 1 4 1 3 3 3 2 3 2 3 4 2 4 2 3 6 3 2 2 3 2 2 3 7 1 2 0 3 3 4 2 0 2 2 3 1 3 2 3 3 2 7 3 2 2 1 1 1 2 1 4 2 3 4 2 2 1 5 2 1 2 2 3 1 2 1 4 0 3 3 1 1 0 2 2 2 1 1 5 2 2 2 1 4 2 3 2 2 5 1 1 5 3 0 2 3 0 1 4 2 4 4 4 2 2 2 0 2 3 3 2 3 5 3 1 1 3 2 2 1 6 3 3 2 1 2 1 3 0 1 2 2 1 3 1 2 6 2 2 3 2 2 4 5 2 2 4 1 2 2 2 3 3 3 2 2 5 4 2 2 2 1 2 3 2 3 2 1 2 2 1 1 1 4 2 2 2 0 4 0 2 4 4 5 5 2 2 1 2 1 4 0 1 2 5 4 1 1 2 1 4 4 4 1 0 4 5 4 2 4 3 4 4 4 4 0 2 0 4 3 2 1 1 2 3 2 2 5 1 3 2 2 2 2 2 1 2 3 4 3 5 2 5 2 3 2 2 4 2 2 3 3 4 3 3 4 5 3 4 3 0 1 4 3 0 5 4 0 2 3 1 2 2 2 4 2 4 2 1 2 2 2 1 3 1 4 3 1 4 0 2 3 3 2 2 3 4 3 1 1 3 3 2 1 2 1 1 3 1 0 1 4 4 2 3 5 2 2 2 2 1 1 1 1 3 5 6 1 5 6 6 4 2 2 2 3 3 1 2 3 0 3 5 2 3 3 3 0 3 4 1 2 2 4 1 1 4 4 2 5 1 2 1 3 1 2 3 3 3 3 2 4 3 1 1 1 2 2 1 5 1 2 3 3 2 2 2 4 3 4 2 2 3 2 4 2 2 1 4 2 2 3 4 4 4 2 2 1 1 2 1 2 3 3 5 4 0 1 3 1 3 3 1 5 1 4 1 3 3 2 3 0 5 4 2 0 1 1 1 3 4 6 3 1 8 5 3 2 2 2 3 3 2 3 4 5 2 6 4 3 0 2 0 2 1 2 2 1 6 2 3 3 1 1 2 4 2 3 4 0 3 3 3 1 3 2 2 3 4 2 1 3 3 4 3 2 2 2 3 2 4 1 1 4 3 0 3 5 2 1 2 3 4 3 1 3 0 4 2 5 2 3 1 0\n",
      "C: 1 1 1 2 2 2 2 2 2 5 0 4 3 1 3 2 2 4 4 4 2 4 1 1 3 2 4 2 0 3 2 3 2 5 3 2 2 1 1 3 2 2 2 1 4 4 4 3 1 5 4 2 2 1 4 1 0 3 1 2 1 3 2 3 3 3 1 3 3 2 1 2 2 0 4 2 1 4 1 3 4 3 3 1 4 4 2 3 4 4 3 0 2 4 3 4 1 1 1 0 3 2 2 1 2 2 4 3 1 5 3 1 5 2 1 3 2 5 2 2 1 1 5 2 5 3 2 2 4 4 2 2 2 4 1 1 2 1 2 2 3 2 1 1 1 5 1 4 2 1 2 5 4 1 6 5 3 0 2 2 2 4 4 1 1 3 2 4 1 0 3 0 2 3 3 0 3 0 4 1 4 3 0 3 1 1 2 1 4 5 3 1 4 1 3 1 3 3 2 2 2 4 4 2 2 1 1 1 3 1 4 1 3 2 3 1 4 2 1 3 2 1 4 2 2 2 5 2 2 2 2 2 2 2 3 3 3 1 4 3 3 3 2 2 3 3 2 1 2 2 2 3 2 1 7 1 2 2 3 4 1 2 3 3 1 4 4 3 2 3 1 2 4 3 3 1 4 3 3 1 2 2 3 4 1 0 3 2 3 3 1 0 4 4 1 4 2 2 2 1 1 4 2 1 0 3 3 2 1 4 2 3 3 3 2 6 2 2 2 2 3 1 2 1 5 2 5 3 1 3 3 6 4 2 1 3 3 4 4 3 2 1 6 0 2 5 0 5 3 3 3 4 5 3 3 3 3 3 3 2 3 3 2 1 2 3 2 4 5 1 3 4 2 4 3 2 3 3 2 2 0 2 1 1 4 4 1 3 4 2 2 2 5 1 3 3 2 3 3 3 1 3 3 1 0 2 1 1 3 3 2 2 2 2 3 5 2 0 2 1 3 1 2 2 2 3 3 3 2 1 2 4 3 1 1 1 4 4 3 7 2 2 1 1 1 1 3 3 1 0 1 3 5 1 5 4 5 3 3 1 2 1 1 2 0 2 5 2 2 3 4 1 0 0 1 4 3 3 4 1 1 1 2 3 4 4 5 2 0 4 2 1 1 4 3 4 1 1 1 1 1 1 5 4 5 1 3 2 4 1 3 1 4 3 4 3 4 1 2 4 1 3 2 3 4 2 3 4 4 2 4 5 2 2 4 0 1 2 2 1 2 4 4 1 4 5 1 2 1 1 3 2 4 5 2 5 4 3 3 2 3 2 4 1 4 4 2 0 6 2 1 2 5 3 2 1 2 4 0 1 2 1 3 3 6 3 4 3 3 3 3 3 2 1 2 3 2 4 2 2 3 2 3 4 0 4 3 2 4 3 2 4 4 4 1 3 5 6 2 3 4 2 2 1 2 3 4 2 3 2 3 3 5 1 5 3 3 3 1 4 2 4 1 3 4 5 2 1 1 2 4 3 2 1 4 2 3 5 4 1 2 4 5 1 2 3 4 2 1 3 0 0 3 5 5 3 1 3 2 2 2 2 3 3 5 2 1 4 2 3 1 3 3 4 1 3 1 2 1 3 1 2 3 2 5 1 3 0 1 0 5 2 2 2 2 3 2 3 2 0 3 1 4 2 1 1 3 2 5 3 4 1 3 1 1 3 3 2 4 4 2 0 3 5 4 3 0 3 5 2 2 0 3 2 1 1 5 3 2 3 1 2 2 1 0 2 4 1 2 3 3 4 3 2 5 4 2 4 3 5 1 3 1 1 2 6 4 2 3 1 2 1 3 1 2 5 3 2 2 2 3 2 2 6 4 2 3 2 3 3 4 1 3 3 2 4 2 1 2 5 2 4 2 4 1 1 2 2 1 1 1 4 3 6 4 3 6 1 2 4 2 2 3 1 3 1 2 1 5 5 4 3 3 3 4 5 3 3 3 2 3 3 3 2 2 2 2 3 1 1 0 4 2 1 4 2 0 2 1 3 2 3 4 2 4 0 6 2 2 2 2 1 2 2 3 1 1 1 1 1 3 5 1 1 4 1 1 2 5 1 2 2 4 3 3 1 4 0 4 5 4 1 2 3 1 3 2 2 2 1 2 1 3 2 1 4 1 2 4 1 3 1 4 1 3 2 1 1 2 1 4 3 3 3 1 4 4 3 1 2 1 2 3 2 3 1 5 0 3 1 0 2 4 2 5 5 2 2 3 1 1 1\n",
      "G: 4 2 1 1 2 3 2 2 1 1 2 2 3 2 0 5 0 4 1 0 3 1 3 2 4 6 1 3 3 3 4 2 2 1 2 3 4 2 3 2 2 3 3 2 1 1 3 4 2 2 2 1 3 5 3 1 3 0 3 2 3 3 2 0 3 2 1 1 3 2 2 3 4 5 0 0 2 3 4 2 4 4 2 3 2 2 3 2 3 1 2 3 2 1 2 3 3 3 1 2 1 2 2 3 2 2 2 3 3 0 4 4 0 2 2 2 4 2 4 5 7 2 4 3 1 1 3 2 3 0 2 1 3 1 2 2 3 4 3 3 3 1 3 3 1 2 2 1 0 5 2 1 3 4 1 0 1 5 4 4 1 1 3 4 5 4 3 1 2 4 4 4 0 2 1 2 4 4 2 3 2 3 2 2 1 3 6 1 4 3 3 6 4 4 5 4 1 1 5 3 1 1 2 4 1 2 4 1 1 7 1 3 1 3 1 0 2 3 4 5 4 2 5 4 3 5 1 2 1 3 4 2 2 6 3 0 3 3 1 2 1 3 3 4 2 1 2 2 4 4 3 2 3 8 0 5 2 3 1 2 3 4 3 5 5 1 0 3 3 0 4 2 1 2 2 3 3 3 1 1 3 1 3 2 2 3 1 4 0 1 2 4 4 0 1 0 3 1 3 5 4 3 3 4 6 2 3 1 1 1 1 2 1 4 1 3 3 3 1 2 2 5 2 4 4 5 0 2 3 2 3 0 1 4 2 1 4 3 2 1 4 5 3 5 1 2 3 2 4 2 2 3 0 5 2 1 3 3 0 1 1 3 2 4 1 3 0 1 1 2 2 1 3 2 4 4 2 1 1 2 4 2 3 2 2 3 5 3 4 3 2 1 1 4 2 4 4 3 3 3 0 4 2 2 4 3 3 1 1 2 3 4 2 2 1 1 4 5 2 3 4 1 1 2 4 3 1 2 4 5 3 3 1 1 1 0 2 2 1 1 4 1 3 2 3 1 1 3 5 6 2 3 1 3 1 2 1 3 2 2 2 3 4 3 4 2 3 2 1 1 1 2 2 3 4 2 5 2 1 4 3 1 3 3 4 2 1 1 4 3 2 2 2 5 2 2 2 1 3 2 3 3 1 3 1 5 4 4 1 4 2 1 2 1 4 2 3 3 3 3 2 4 2 3 0 4 2 2 3 5 3 3 3 3 3 5 2 2 4 5 3 0 2 2 3 3 0 3 2 2 4 4 2 2 3 1 0 2 2 2 2 3 2 3 0 0 2 1 1 2 1 3 3 2 0 3 5 1 1 4 2 5 3 4 2 2 2 2 1 3 1 3 3 2 0 1 4 3 2 5 3 2 4 4 4 2 4 3 3 2 1 1 2 2 2 2 2 1 4 3 2 3 5 2 2 4 3 4 3 3 3 2 3 6 1 1 1 5 3 1 3 1 2 1 2 1 4 0 1 4 3 2 2 2 4 5 0 2 2 3 2 2 2 3 2 0 3 4 3 2 2 5 1 2 2 6 1 1 3 3 5 4 2 3 0 0 2 2 6 2 4 2 3 2 4 1 3 1 0 1 3 5 2 3 0 2 2 4 4 2 1 3 3 3 1 4 3 2 4 5 3 4 4 1 4 1 3 1 3 3 3 7 2 2 3 3 3 5 2 3 2 5 2 1 1 3 1 3 2 2 1 7 3 3 3 2 1 3 3 2 4 3 4 3 6 2 3 6 2 2 2 2 2 2 1 1 3 3 3 3 5 3 1 3 1 2 1 0 0 4 5 6 3 5 4 2 0 1 2 3 1 3 1 0 2 3 2 1 4 4 3 3 2 3 2 0 6 3 4 1 4 1 1 2 5 2 4 1 2 4 2 4 2 1 2 0 0 0 3 3 2 4 2 4 2 3 2 2 3 1 2 1 2 2 4 2 2 1 4 2 2 1 2 1 2 3 2 1 4 2 4 1 2 4 5 5 5 3 1 2 4 0 5 1 3 5 0 4 2 3 2 1 5 6 2 3 5 2 2 1 4 1 0 1 2 5 2 2 1 5 3 3 0 2 2 1 1 4 0 1 3 5 4 3 4 2 0 1 2 2 4 2 3 2 5 2 3 4 0 3 2 3 2 3 1 1 3 3 3 4 2 0 1 1 6 2 2 4 3 4 6 2 1 4 1 3 1 2 2 5 4 1 1 1 3 0 3 1 1 3 3 2\n",
      "T: 2 5 3 5 2 2 3 3 3 1 3 3 2 4 3 2 1 0 2 1 4 2 3 4 2 0 4 3 4 4 2 2 4 2 4 2 1 4 3 3 5 5 2 3 3 2 3 1 5 2 1 3 5 3 0 2 5 5 1 4 2 1 3 4 0 2 5 2 2 3 2 2 2 2 2 1 5 2 1 2 1 1 2 3 3 4 5 2 1 4 1 4 4 3 2 3 3 2 4 2 4 4 2 3 3 3 1 2 3 3 2 1 1 3 5 0 1 2 2 1 1 1 0 4 3 4 1 4 1 4 3 3 4 3 4 4 3 4 2 0 1 4 3 5 2 1 2 3 4 1 4 2 2 3 1 2 1 3 3 2 5 3 3 3 1 1 2 4 3 3 3 5 4 2 1 5 1 3 1 4 1 1 2 2 4 3 1 4 0 2 1 1 2 3 1 4 1 1 1 0 5 2 2 1 5 2 3 6 5 0 2 3 2 3 3 3 2 4 3 2 2 3 1 2 2 2 2 3 4 2 2 3 3 1 3 2 3 4 1 3 5 3 2 1 3 3 1 5 2 2 2 5 2 0 1 2 2 2 3 0 2 3 1 2 3 3 1 4 2 2 1 4 2 3 2 4 2 2 4 3 3 5 2 1 3 4 3 2 4 1 4 5 0 4 4 2 3 2 3 2 3 1 1 2 3 2 3 2 6 3 3 3 1 2 2 1 2 2 1 4 2 2 3 3 1 2 3 2 2 3 2 3 2 2 5 4 1 1 2 2 2 4 1 1 3 2 3 0 1 3 1 1 3 2 2 2 1 0 4 4 2 2 2 5 3 3 2 5 4 4 0 1 3 4 2 3 3 1 2 4 4 2 2 5 2 3 0 3 1 2 2 3 2 1 2 3 2 3 2 2 4 3 3 4 2 1 5 3 5 1 2 2 1 3 1 3 2 0 3 4 1 7 2 4 3 4 3 2 0 3 3 2 4 6 5 5 4 4 4 0 1 2 3 2 3 6 2 0 1 3 5 1 2 3 2 2 3 2 4 3 5 3 2 2 4 3 0 3 3 4 1 5 5 1 2 2 0 2 3 3 3 1 4 2 2 1 1 3 4 3 4 5 4 0 2 2 4 5 4 0 3 4 2 2 3 3 1 3 1 3 2 4 2 4 1 0 1 5 3 1 4 2 4 3 2 4 2 1 2 2 3 0 3 3 2 4 2 4 2 2 4 2 2 4 1 0 4 4 6 2 0 4 2 0 5 3 2 3 1 2 1 3 2 4 6 4 3 6 1 3 3 2 1 4 5 4 1 4 3 2 3 2 3 1 1 2 4 4 4 2 5 1 4 5 2 4 2 0 4 1 0 1 1 0 2 3 1 3 1 2 4 2 2 2 2 1 1 1 2 3 2 2 1 4 4 2 1 2 3 4 3 1 0 1 2 6 2 2 4 1 1 0 2 4 2 3 2 8 4 4 2 3 1 3 1 2 5 2 0 2 2 3 3 2 1 3 1 0 3 1 4 1 2 3 1 1 4 3 3 4 2 2 2 2 3 3 6 1 0 3 3 3 2 3 3 3 2 4 4 4 1 1 2 3 3 3 3 4 2 5 0 2 2 1 2 0 1 2 4 4 0 2 2 2 1 8 2 4 1 2 1 0 1 5 2 2 3 1 2 1 5 2 4 0 2 3 5 4 1 3 4 1 2 2 2 4 3 3 2 2 3 4 2 5 3 3 2 3 5 1 1 2 2 1 2 3 3 1 3 1 3 3 5 1 1 1 0 2 1 1 1 1 2 1 1 2 5 4 6 2 1 3 4 1 1 5 2 3 2 1 1 2 4 3 2 2 0 1 3 2 3 2 6 2 1 4 1 4 5 1 4 1 4 2 2 5 3 4 4 1 3 1 3 3 3 2 3 3 0 2 1 4 1 3 0 2 1 4 1 3 1 2 1 5 4 4 5 4 4 5 3 2 1 1 1 2 2 4 5 2 3 2 0 3 2 2 1 2 3 5 1 4 1 2 4 5 3 4 3 2 0 3 1 3 1 2 5 4 1 1 3 2 2 0 3 2 1 3 6 2 3 2 3 2 3 4 2 5 3 4 3 6 2 2 2 1 2 4 3 3 2 5 1 4 4 4 2 4 4 2 1 3 3 4 1 2 1 1 2 3 2 2 3 4 3 1 2 7 3 1 2 4 4 4 2 1 3 2 4 3 5 7\n"
     ]
    }
   ],
   "source": [
    "fn = \"data/rosalind_cons.txt\"\n",
    "with open(fn, \"r\") as file:\n",
    "    input_str = file.read().strip()\n",
    "\n",
    "print(get_profile_matrix(input_str))"
   ]
  },
  {
   "cell_type": "code",
   "execution_count": null,
   "id": "a8cb2757-e008-44ff-a073-21e5ef4dd6b9",
   "metadata": {},
   "outputs": [],
   "source": []
  }
 ],
 "metadata": {
  "kernelspec": {
   "display_name": "Python 3 (ipykernel)",
   "language": "python",
   "name": "python3"
  },
  "language_info": {
   "codemirror_mode": {
    "name": "ipython",
    "version": 3
   },
   "file_extension": ".py",
   "mimetype": "text/x-python",
   "name": "python",
   "nbconvert_exporter": "python",
   "pygments_lexer": "ipython3",
   "version": "3.11.5"
  }
 },
 "nbformat": 4,
 "nbformat_minor": 5
}
