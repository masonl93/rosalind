{
 "cells": [
  {
   "cell_type": "markdown",
   "id": "b5f031ad-82ac-449e-b0dd-fd54316de01c",
   "metadata": {},
   "source": [
    "# Counting DNA Nucleotides"
   ]
  },
  {
   "cell_type": "code",
   "execution_count": 2,
   "id": "2b99cf90-bfa9-4148-9870-fc817dcc59fe",
   "metadata": {
    "tags": []
   },
   "outputs": [],
   "source": [
    "def count_symbols_in_dna(dna_string):\n",
    "    count_A, count_C, count_G, count_T = 0, 0, 0, 0\n",
    "\n",
    "    for symbol in dna_string:\n",
    "        if symbol == \"A\":\n",
    "            count_A += 1\n",
    "        elif symbol == \"C\":\n",
    "            count_C += 1\n",
    "        elif symbol == \"G\":\n",
    "            count_G += 1\n",
    "        elif symbol == \"T\":\n",
    "            count_T += 1\n",
    "\n",
    "    return f\"{count_A} {count_C} {count_G} {count_T}\"\n",
    "\n",
    "\n",
    "sample_input = \"AGCTTTTCATTCTGACTGCAACGGGCAATATGTCTCTGTGTGGATTAAAAAAAGAGTGTCTGATAGCAGC\"\n",
    "expected_output = \"20 12 17 21\"\n",
    "counts = count_symbols_in_dna(sample_input)\n",
    "assert counts == expected_output"
   ]
  },
  {
   "cell_type": "code",
   "execution_count": 3,
   "id": "75ffb660-ccf9-41b8-b445-bed267ef6372",
   "metadata": {
    "tags": []
   },
   "outputs": [
    {
     "name": "stdout",
     "output_type": "stream",
     "text": [
      "194 197 226 188\n"
     ]
    }
   ],
   "source": [
    "fn = \"data/rosalind_dna.txt\"\n",
    "with open(fn, \"r\") as file:\n",
    "    dna_string = file.read().strip()\n",
    "\n",
    "print(count_symbols_in_dna(dna_string))"
   ]
  },
  {
   "cell_type": "markdown",
   "id": "99ab43fd-7677-4f67-ad74-1c791ef3ba0f",
   "metadata": {},
   "source": [
    "# Transcribing DNA into RNA"
   ]
  },
  {
   "cell_type": "code",
   "execution_count": 4,
   "id": "d65f39b4-c3ff-4a3a-b52b-680d53fd2168",
   "metadata": {
    "tags": []
   },
   "outputs": [],
   "source": [
    "def transcribe(t):\n",
    "    return t.replace(\"T\", \"U\")"
   ]
  },
  {
   "cell_type": "code",
   "execution_count": 5,
   "id": "15d5f713-89bc-4248-8d3d-cd08859ca0e1",
   "metadata": {
    "tags": []
   },
   "outputs": [],
   "source": [
    "sample_input = \"GATGGAACTTGACTACGTAAATT\"\n",
    "expected_output = \"GAUGGAACUUGACUACGUAAAUU\"\n",
    "output = transcribe(sample_input)\n",
    "assert output == expected_output"
   ]
  },
  {
   "cell_type": "code",
   "execution_count": 6,
   "id": "6e5ea8e5-3a0c-47b8-84cd-4f30b10a457a",
   "metadata": {
    "tags": []
   },
   "outputs": [
    {
     "name": "stdout",
     "output_type": "stream",
     "text": [
      "CCCUUCCUAGAACCGCAGUGUGUUCGUGUGGAGCAUAAUGUCCUAAUGAGAGGUUUAGGAGACGGGACUCGGUCACGCAACGGUAAGCUUGACAUGGUGGCGGACCUGGUGUUGAUACCUUACGUUGUCAUUACGUCCAGGGCCCGCUGUAGGCCCCUGCGGUACGCGACGAGUAUCUUUGCGAGACCGCCAGUACUAAAUCGCAUCGUGGUGUUCCUACACCAGUUUCGUCUUGCCAUCUCCUGUCCAACGCUCAUAAAUAGUAUUCGAAUAGGAACUCUGGAGGCCAGUGGGAAGUCACCCCGAUUAUCUAGGUGGAGGCAAGGCAAAGCGUGUGGCAAAUUAAGGCGCGUCAAAGAAUACCUGGACUCCUACCGGUUGUCUAUGGACCUCGUUACGUCAAGGGCUUUCCAUAGAUCGAUCUAGCGUUCGGCCUGGAGGAGAGAAUCGUAACAUGCUAAGUUGCUAUUGAAGUCAAGGCAGCGGCCUGCCAUGACCUUUGGACCGCCGUCGCCUCACAAGGAGCAUGUUGCCAGAAUCGAGGUUAUCGCAGAGUCAGUGCGACGUAGUGCCCUACGAUAUAAAGCCACUGUUGUGGUAGAUAUGAAAUCUUGAUCCGAUUCGUCAAGAAAAUCUAAAUGGCACGCCAUAUGGAUGGUUCGUCCUCCAUAAACGCCUGCGAGAUCCUCAGCAAUUCUAGAUUGAGAGUUCUACGUUCCCAUGAUAGUACGGAAUUUCUGUCCUAACAUUGCGUAGAAGUCCUUUGGUCUCCCAGAGUCCUAAGGUUCGUUUGGCAAUUGUAGCCGAGGGCAGAAGUUUUGUGGAAUCCAUCUAAUGGCGGCUUACGUCCAUACAAAACUAAUUUAACGGAACGGCAUACUACAAGCUGUGACUAUAGCAUACAGUGGCUUCAUAUAAGCGGCGCUCCAGGAGUGAAGAUAUAGUCGCGUCGCCCGCCUGUAUGCGUAGGCACGUUCGGCUCUGGCA\n"
     ]
    }
   ],
   "source": [
    "fn = \"data/rosalind_rna.txt\"\n",
    "with open(fn, \"r\") as file:\n",
    "    dna_string = file.read().strip()\n",
    "\n",
    "print(transcribe(dna_string))"
   ]
  },
  {
   "cell_type": "markdown",
   "id": "b163ecf4-d138-4671-9a2d-ead1b063c4c7",
   "metadata": {},
   "source": [
    "# Complementing a Strand of DNA"
   ]
  },
  {
   "cell_type": "code",
   "execution_count": 15,
   "id": "341de732-a095-4aab-b231-103f27861eef",
   "metadata": {
    "tags": []
   },
   "outputs": [],
   "source": [
    "def complement_strand(dna):\n",
    "    dna = dna.lower()\n",
    "    comps = {\"a\": \"t\", \"t\": \"a\", \"c\": \"g\", \"g\": \"c\"}\n",
    "    reversed_dna = dna[::-1]\n",
    "    return \"\".join([comps.get(char, char) for char in reversed_dna]).upper()"
   ]
  },
  {
   "cell_type": "code",
   "execution_count": 17,
   "id": "f8b855dc-c805-4013-927a-0f9589f19f54",
   "metadata": {
    "tags": []
   },
   "outputs": [],
   "source": [
    "sample_input = \"AAAACCCGGT\"\n",
    "expected_output = \"ACCGGGTTTT\"\n",
    "output = complement_strand(sample_input)\n",
    "assert output == expected_output"
   ]
  },
  {
   "cell_type": "code",
   "execution_count": 20,
   "id": "ec1f3c77-d9ac-4dce-952a-3d70dc812efd",
   "metadata": {
    "tags": []
   },
   "outputs": [
    {
     "name": "stdout",
     "output_type": "stream",
     "text": [
      "CGAACTGTTGCCGTTGTGGGTAAATCTTAGTACCGCTCTTTGTTCAAGATAAGCGATTCTTTACCACATCACCCCACAGACTAGCTTACAGGTAATTCACCAAGCCCTGCTGCATACCATTCAGTTGTTTGTAGCTGACGAAATCGTGAATTAATCGTGCGCCTGCCTAATTGAAGAACTAATCCACCCAGAGCGCACGAGCCTCCATGGTAAGTTCCGCATAGTTTGATACGTCCATCTCCCATTGGATTCCTAACAGGTTCGTGTCACGTCCGAGAACCTAACGGATGTGAATAGCTCACATTGATGCCGCTAGCAGGGTCCCAGAAGCAACGGGGCCGTGGCAATTTCGCCAGTTATGCGATAGGCCTATTACGGATAGTCCAGTTGCAGGGCCACTGGTCGAGGATTCGGGCGTTGCCGATAAGGTAATCAAGGGCCGCGGCGGTAGGTTCTGTCCCACCATTAGTTTTGCCTCGTACGTGGCGCTTCGACTAATCATACCTGTCCTACGTTCGGTGCCCCTCATCTATTCTCCTTGCTGGATGGCATTAGAGGACTACGGTGTTGTTTCGCAACAATCAGGTTTGGCTAGTAATGGTCCGTTCAAAGGATCCACTCTAATTAATCTAATAGTTCGGCTGACTACGATTAACCAACGGCGGGTACCACTTTTCTAGTGGTTGCTAAAAATCCACTTTGCACGTAGACAGTTCCGCCACTCGGACCAAGAATACCGGCTAGCGAGCACTTTTTGACCGTCAGGATGCTGCGTACTGGGGTCACATGTGGCTCTCCAGACGTGTACGATCTAAGACAGTTTGCCAAGTAGTCCCGTCGGATTACGGGCTGGCCTAGTGCGTACTATGTTAGTTTGCTAGTCTACGTAAGACTGTCGTGGATGTTCTACAGCCCGAATTTCAGAGTGATTCACTGCTTACTCCTACTATAGATATAA\n"
     ]
    }
   ],
   "source": [
    "fn = \"data/rosalind_revc.txt\"\n",
    "with open(fn, \"r\") as file:\n",
    "    dna_string = file.read().strip()\n",
    "\n",
    "print(complement_strand(dna_string))"
   ]
  },
  {
   "cell_type": "code",
   "execution_count": null,
   "id": "a11de826-7703-4799-8ff4-4bab7aef2ed1",
   "metadata": {},
   "outputs": [],
   "source": []
  }
 ],
 "metadata": {
  "kernelspec": {
   "display_name": "Python 3",
   "language": "python",
   "name": "python3"
  },
  "language_info": {
   "codemirror_mode": {
    "name": "ipython",
    "version": 3
   },
   "file_extension": ".py",
   "mimetype": "text/x-python",
   "name": "python",
   "nbconvert_exporter": "python",
   "pygments_lexer": "ipython3",
   "version": "3.8.17"
  }
 },
 "nbformat": 4,
 "nbformat_minor": 5
}
