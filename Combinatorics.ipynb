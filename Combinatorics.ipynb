{
 "cells": [
  {
   "cell_type": "markdown",
   "id": "e03a0a5d-83b9-4137-ac69-dfaff916424c",
   "metadata": {},
   "source": [
    "# Rabbits and Recurrence Relations"
   ]
  },
  {
   "cell_type": "code",
   "execution_count": 4,
   "id": "97aeeee6-8646-43d9-ad87-b97be542d8c5",
   "metadata": {
    "tags": []
   },
   "outputs": [],
   "source": [
    "def rabbitPairs(n, offspring):\n",
    "    if n == 0:\n",
    "        return 0\n",
    "    if n == 1:\n",
    "        return 1\n",
    "    return rabbitPairs(n - 1, offspring) + k * rabbitPairs(n - 2, offspring)"
   ]
  },
  {
   "cell_type": "code",
   "execution_count": 8,
   "id": "694f91ea-f2ec-4d21-8f4f-a326302e5033",
   "metadata": {
    "tags": []
   },
   "outputs": [],
   "source": [
    "sample_input = \"5 3\"\n",
    "expected_output = 19\n",
    "n, k = map(int, sample_input.split())\n",
    "output = rabbitPairs(n, k)\n",
    "assert output == expected_output"
   ]
  },
  {
   "cell_type": "code",
   "execution_count": 10,
   "id": "5a1223f4-a709-4ec4-a146-9edd1745202f",
   "metadata": {
    "tags": []
   },
   "outputs": [
    {
     "name": "stdout",
     "output_type": "stream",
     "text": [
      "40238153982301\n"
     ]
    }
   ],
   "source": [
    "fn = \"data/rosalind_fib.txt\"\n",
    "with open(fn, \"r\") as file:\n",
    "    data = file.read().strip()\n",
    "n, k = map(int, data.split())\n",
    "print(rabbitPairs(n, k))"
   ]
  },
  {
   "cell_type": "code",
   "execution_count": null,
   "id": "07bd0e19-5a7d-48fe-a26d-14d73a65bfd0",
   "metadata": {},
   "outputs": [],
   "source": []
  }
 ],
 "metadata": {
  "kernelspec": {
   "display_name": "Python 3",
   "language": "python",
   "name": "python3"
  },
  "language_info": {
   "codemirror_mode": {
    "name": "ipython",
    "version": 3
   },
   "file_extension": ".py",
   "mimetype": "text/x-python",
   "name": "python",
   "nbconvert_exporter": "python",
   "pygments_lexer": "ipython3",
   "version": "3.8.17"
  }
 },
 "nbformat": 4,
 "nbformat_minor": 5
}
