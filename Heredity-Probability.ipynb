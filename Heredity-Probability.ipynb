{
 "cells": [
  {
   "cell_type": "code",
   "execution_count": 2,
   "id": "98b557d3-ad8b-42ab-af5d-c4e1f2b08948",
   "metadata": {},
   "outputs": [],
   "source": [
    "import random"
   ]
  },
  {
   "cell_type": "markdown",
   "id": "84228bc3-fd44-41ac-831e-926fe0eca34a",
   "metadata": {},
   "source": [
    "# Mendel's First Law\n",
    "\n",
    "P(Dominant) = Prob of at least one k + Prob of two m's * 75% + Prob of one m and one n * 50% "
   ]
  },
  {
   "cell_type": "code",
   "execution_count": 85,
   "id": "e10ce7dd-556c-4204-9ce1-cee0d0b4ddf5",
   "metadata": {},
   "outputs": [],
   "source": [
    "# 0 = YY\n",
    "# 1 = Yy\n",
    "# 2 = yy\n",
    "def sim_dominant_probability(k, m, n):\n",
    "    total_population = k + m + n\n",
    "    population = k * [0] + m * [1] + n * [2]\n",
    "    sims = 100_000\n",
    "    cnt = 0\n",
    "\n",
    "    for i in range(0, sims):\n",
    "        mates = random.sample(population, 2)\n",
    "        if 0 in mates:\n",
    "            cnt += 1\n",
    "        elif mates == [1, 1]:\n",
    "            if random.random() < 0.75:\n",
    "                cnt += 1\n",
    "        elif 1 in mates and 2 in mates:\n",
    "            if random.random() < 0.50:\n",
    "                cnt += 1\n",
    "    return cnt / sims"
   ]
  },
  {
   "cell_type": "code",
   "execution_count": 86,
   "id": "3bca1161-ac65-48db-84b1-573aee85651b",
   "metadata": {},
   "outputs": [
    {
     "name": "stdout",
     "output_type": "stream",
     "text": [
      "0.78378\n"
     ]
    }
   ],
   "source": [
    "k = 2\n",
    "m = 2\n",
    "n = 2\n",
    "result = sim_dominant_probability(k, m, n)\n",
    "print(result)"
   ]
  },
  {
   "cell_type": "code",
   "execution_count": 101,
   "id": "fe2a1a05-9f1a-4036-8720-4323fb014fbc",
   "metadata": {},
   "outputs": [],
   "source": [
    "def dominant_probability(k, m, n):\n",
    "    total_population = k + m + n\n",
    "\n",
    "    k_first = k / total_population\n",
    "    kk = k_first * ((k - 1) / (total_population - 1))\n",
    "    km = k_first * (m / (total_population - 1))\n",
    "    kn = k_first * (n / (total_population - 1))\n",
    "\n",
    "    m_first = m / total_population\n",
    "    mk = m_first * (k / (total_population - 1))\n",
    "    mm = m_first * ((m - 1) / (total_population - 1))\n",
    "    mn = m_first * (n / (total_population - 1))\n",
    "\n",
    "    n_first = n / total_population\n",
    "    nk = n_first * (k / (total_population - 1))\n",
    "    nm = n_first * (m / (total_population - 1))\n",
    "    nn = n_first * ((n - 1) / (total_population - 1))\n",
    "\n",
    "    prob_k = kk + km + kn + mk + nk  # at least one k\n",
    "    prob_mn = mn + nm  # Prob of one 1 and one 2\n",
    "    return round(prob_k + mm * 0.75 + prob_mn * 0.5, 5)"
   ]
  },
  {
   "cell_type": "code",
   "execution_count": 102,
   "id": "0089be6d-bb85-450b-8705-54ed80ee150c",
   "metadata": {},
   "outputs": [
    {
     "name": "stdout",
     "output_type": "stream",
     "text": [
      "0.78333\n"
     ]
    }
   ],
   "source": [
    "sample_input = \"2 2 2\"\n",
    "expected_output = 0.78333\n",
    "k, m, n = map(int, sample_input.split())\n",
    "output = dominant_probability(k, m, n)\n",
    "assert output == expected_output"
   ]
  },
  {
   "cell_type": "code",
   "execution_count": 106,
   "id": "aeef715f-7230-418f-9c29-e8ec45005dbb",
   "metadata": {},
   "outputs": [
    {
     "name": "stdout",
     "output_type": "stream",
     "text": [
      "0.74456\n"
     ]
    }
   ],
   "source": [
    "fn = \"data/rosalind_iprb.txt\"\n",
    "with open(fn, \"r\") as file:\n",
    "    data = file.read().strip()\n",
    "k, m, n = map(int, data.split())\n",
    "print(dominant_probability(k, m, n))"
   ]
  },
  {
   "cell_type": "code",
   "execution_count": null,
   "id": "68e472d5-3fdf-4850-8699-2bd585396aa7",
   "metadata": {},
   "outputs": [],
   "source": []
  }
 ],
 "metadata": {
  "kernelspec": {
   "display_name": "Python 3 (ipykernel)",
   "language": "python",
   "name": "python3"
  },
  "language_info": {
   "codemirror_mode": {
    "name": "ipython",
    "version": 3
   },
   "file_extension": ".py",
   "mimetype": "text/x-python",
   "name": "python",
   "nbconvert_exporter": "python",
   "pygments_lexer": "ipython3",
   "version": "3.11.5"
  }
 },
 "nbformat": 4,
 "nbformat_minor": 5
}
