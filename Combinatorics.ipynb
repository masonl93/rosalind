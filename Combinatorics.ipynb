{
 "cells": [
  {
   "cell_type": "markdown",
   "id": "e03a0a5d-83b9-4137-ac69-dfaff916424c",
   "metadata": {},
   "source": [
    "# Rabbits and Recurrence Relations"
   ]
  },
  {
   "cell_type": "code",
   "execution_count": 22,
   "id": "97aeeee6-8646-43d9-ad87-b97be542d8c5",
   "metadata": {
    "tags": []
   },
   "outputs": [],
   "source": [
    "def rabbitPairs(n, offspring):\n",
    "    if n == 0:\n",
    "        return 0\n",
    "    if n == 1:\n",
    "        return 1\n",
    "    return rabbitPairs(n - 1, offspring) + offspring * rabbitPairs(n - 2, offspring)"
   ]
  },
  {
   "cell_type": "code",
   "execution_count": 23,
   "id": "694f91ea-f2ec-4d21-8f4f-a326302e5033",
   "metadata": {
    "tags": []
   },
   "outputs": [],
   "source": [
    "sample_input = \"5 3\"\n",
    "expected_output = 19\n",
    "n, k = map(int, sample_input.split())\n",
    "output = rabbitPairs(n, k)\n",
    "assert output == expected_output"
   ]
  },
  {
   "cell_type": "code",
   "execution_count": 24,
   "id": "5a1223f4-a709-4ec4-a146-9edd1745202f",
   "metadata": {
    "tags": []
   },
   "outputs": [
    {
     "name": "stdout",
     "output_type": "stream",
     "text": [
      "40238153982301\n"
     ]
    }
   ],
   "source": [
    "fn = \"data/rosalind_fib.txt\"\n",
    "with open(fn, \"r\") as file:\n",
    "    data = file.read().strip()\n",
    "n, k = map(int, data.split())\n",
    "print(rabbitPairs(n, k))"
   ]
  },
  {
   "cell_type": "markdown",
   "id": "8b7e3231-5beb-47af-99f8-57e9c6685f8f",
   "metadata": {},
   "source": [
    "# Mortal Fibonacci Rabbits"
   ]
  },
  {
   "cell_type": "code",
   "execution_count": 4,
   "id": "9e69d99d-752b-4972-9cf0-8485e3306e38",
   "metadata": {},
   "outputs": [],
   "source": [
    "def rabbitPairs_v2(months, live_span): \n",
    "    ages = [1] + [0]*(live_span-1)\n",
    "    for i in range(months-1):\n",
    "        ages = [sum(ages[1:])] + ages[:-1]\n",
    "    return sum(ages)"
   ]
  },
  {
   "cell_type": "code",
   "execution_count": 5,
   "id": "e8024322-4272-4379-9221-aed7a8c55dd8",
   "metadata": {},
   "outputs": [
    {
     "name": "stdout",
     "output_type": "stream",
     "text": [
      "4\n"
     ]
    }
   ],
   "source": [
    "sample_input = \"6 3\"\n",
    "expected_output = 4\n",
    "n, m = map(int, sample_input.split())\n",
    "output = rabbitPairs_v2(n, m)\n",
    "print(output)\n",
    "assert output == expected_output"
   ]
  },
  {
   "cell_type": "code",
   "execution_count": 6,
   "id": "9b67ed2d-7bb9-4851-81cd-c212b358b835",
   "metadata": {},
   "outputs": [
    {
     "name": "stdout",
     "output_type": "stream",
     "text": [
      "23373970137148875\n"
     ]
    }
   ],
   "source": [
    "fn = \"data/rosalind_fibd.txt\"\n",
    "with open(fn, \"r\") as file:\n",
    "    data = file.read().strip()\n",
    "n, m = map(int, data.split())\n",
    "print(rabbitPairs_v2(n, m))"
   ]
  },
  {
   "cell_type": "code",
   "execution_count": null,
   "id": "49c406a1-d90e-45ed-af57-735bfc0305a0",
   "metadata": {},
   "outputs": [],
   "source": []
  }
 ],
 "metadata": {
  "kernelspec": {
   "display_name": "Python 3 (ipykernel)",
   "language": "python",
   "name": "python3"
  },
  "language_info": {
   "codemirror_mode": {
    "name": "ipython",
    "version": 3
   },
   "file_extension": ".py",
   "mimetype": "text/x-python",
   "name": "python",
   "nbconvert_exporter": "python",
   "pygments_lexer": "ipython3",
   "version": "3.11.5"
  }
 },
 "nbformat": 4,
 "nbformat_minor": 5
}
