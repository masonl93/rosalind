{
 "cells": [
  {
   "cell_type": "code",
   "execution_count": 1,
   "id": "e7876180-678a-49bb-80a1-3968c43e0416",
   "metadata": {
    "tags": []
   },
   "outputs": [],
   "source": [
    "def transcribe(t):\n",
    "    return t.replace('T','U')"
   ]
  },
  {
   "cell_type": "code",
   "execution_count": 2,
   "id": "f3f354c5-9625-4147-abda-e27dd91d1466",
   "metadata": {
    "tags": []
   },
   "outputs": [],
   "source": [
    "sample_input = \"GATGGAACTTGACTACGTAAATT\"\n",
    "expected_output = \"GAUGGAACUUGACUACGUAAAUU\"\n",
    "output = transcribe(sample_input)\n",
    "assert output == expected_output"
   ]
  },
  {
   "cell_type": "code",
   "execution_count": 3,
   "id": "bf04f569-81cb-40c4-a695-4b363c8340f4",
   "metadata": {
    "tags": []
   },
   "outputs": [
    {
     "name": "stdout",
     "output_type": "stream",
     "text": [
      "CCCUUCCUAGAACCGCAGUGUGUUCGUGUGGAGCAUAAUGUCCUAAUGAGAGGUUUAGGAGACGGGACUCGGUCACGCAACGGUAAGCUUGACAUGGUGGCGGACCUGGUGUUGAUACCUUACGUUGUCAUUACGUCCAGGGCCCGCUGUAGGCCCCUGCGGUACGCGACGAGUAUCUUUGCGAGACCGCCAGUACUAAAUCGCAUCGUGGUGUUCCUACACCAGUUUCGUCUUGCCAUCUCCUGUCCAACGCUCAUAAAUAGUAUUCGAAUAGGAACUCUGGAGGCCAGUGGGAAGUCACCCCGAUUAUCUAGGUGGAGGCAAGGCAAAGCGUGUGGCAAAUUAAGGCGCGUCAAAGAAUACCUGGACUCCUACCGGUUGUCUAUGGACCUCGUUACGUCAAGGGCUUUCCAUAGAUCGAUCUAGCGUUCGGCCUGGAGGAGAGAAUCGUAACAUGCUAAGUUGCUAUUGAAGUCAAGGCAGCGGCCUGCCAUGACCUUUGGACCGCCGUCGCCUCACAAGGAGCAUGUUGCCAGAAUCGAGGUUAUCGCAGAGUCAGUGCGACGUAGUGCCCUACGAUAUAAAGCCACUGUUGUGGUAGAUAUGAAAUCUUGAUCCGAUUCGUCAAGAAAAUCUAAAUGGCACGCCAUAUGGAUGGUUCGUCCUCCAUAAACGCCUGCGAGAUCCUCAGCAAUUCUAGAUUGAGAGUUCUACGUUCCCAUGAUAGUACGGAAUUUCUGUCCUAACAUUGCGUAGAAGUCCUUUGGUCUCCCAGAGUCCUAAGGUUCGUUUGGCAAUUGUAGCCGAGGGCAGAAGUUUUGUGGAAUCCAUCUAAUGGCGGCUUACGUCCAUACAAAACUAAUUUAACGGAACGGCAUACUACAAGCUGUGACUAUAGCAUACAGUGGCUUCAUAUAAGCGGCGCUCCAGGAGUGAAGAUAUAGUCGCGUCGCCCGCCUGUAUGCGUAGGCACGUUCGGCUCUGGCA\n"
     ]
    }
   ],
   "source": [
    "fn = 'data/rosalind_rna.txt'\n",
    "with open(fn, 'r') as file:\n",
    "    dna_string = file.read().strip() \n",
    "\n",
    "print(transcribe(dna_string))"
   ]
  },
  {
   "cell_type": "code",
   "execution_count": null,
   "id": "62172951-3b39-4796-a941-71cfc57db0f4",
   "metadata": {},
   "outputs": [],
   "source": []
  }
 ],
 "metadata": {
  "kernelspec": {
   "display_name": "Python 3",
   "language": "python",
   "name": "python3"
  },
  "language_info": {
   "codemirror_mode": {
    "name": "ipython",
    "version": 3
   },
   "file_extension": ".py",
   "mimetype": "text/x-python",
   "name": "python",
   "nbconvert_exporter": "python",
   "pygments_lexer": "ipython3",
   "version": "3.8.17"
  }
 },
 "nbformat": 4,
 "nbformat_minor": 5
}
