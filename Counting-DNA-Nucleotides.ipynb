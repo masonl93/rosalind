{
 "cells": [
  {
   "cell_type": "code",
   "execution_count": 11,
   "id": "f3f90a92-cee6-4ff0-b118-15341d985136",
   "metadata": {
    "tags": []
   },
   "outputs": [],
   "source": [
    "def count_symbols_in_dna(dna_string):\n",
    "    count_A, count_C, count_G, count_T = 0, 0, 0, 0\n",
    "\n",
    "    for symbol in dna_string:\n",
    "        if symbol == \"A\":\n",
    "            count_A += 1\n",
    "        elif symbol == \"C\":\n",
    "            count_C += 1\n",
    "        elif symbol == \"G\":\n",
    "            count_G += 1\n",
    "        elif symbol == \"T\":\n",
    "            count_T += 1\n",
    "\n",
    "    return f\"{count_A} {count_C} {count_G} {count_T}\"\n",
    "\n",
    "\n",
    "sample_input = \"AGCTTTTCATTCTGACTGCAACGGGCAATATGTCTCTGTGTGGATTAAAAAAAGAGTGTCTGATAGCAGC\"\n",
    "expected_output = \"20 12 17 21\"\n",
    "counts = count_symbols_in_dna(sample_input)\n",
    "assert counts == expected_output"
   ]
  },
  {
   "cell_type": "code",
   "execution_count": 12,
   "id": "9a183919-5c57-4f0e-99ff-201d7b43f3fd",
   "metadata": {
    "tags": []
   },
   "outputs": [
    {
     "name": "stdout",
     "output_type": "stream",
     "text": [
      "194 197 226 188\n"
     ]
    }
   ],
   "source": [
    "fn = 'data/rosalind_dna.txt'\n",
    "with open(fn, 'r') as file:\n",
    "    dna_string = file.read().strip() \n",
    "\n",
    "print(count_symbols_in_dna(dna_string))"
   ]
  },
  {
   "cell_type": "code",
   "execution_count": null,
   "id": "9dc9946d-f7c3-4eb4-b6d8-14403bde0ba1",
   "metadata": {},
   "outputs": [],
   "source": []
  }
 ],
 "metadata": {
  "kernelspec": {
   "display_name": "Python 3",
   "language": "python",
   "name": "python3"
  },
  "language_info": {
   "codemirror_mode": {
    "name": "ipython",
    "version": 3
   },
   "file_extension": ".py",
   "mimetype": "text/x-python",
   "name": "python",
   "nbconvert_exporter": "python",
   "pygments_lexer": "ipython3",
   "version": "3.8.17"
  }
 },
 "nbformat": 4,
 "nbformat_minor": 5
}
