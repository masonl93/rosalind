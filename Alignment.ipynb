{
 "cells": [
  {
   "cell_type": "markdown",
   "id": "afad25cf-e36e-474d-9b17-08ca84a3f785",
   "metadata": {},
   "source": [
    "# Counting Point Mutations"
   ]
  },
  {
   "cell_type": "code",
   "execution_count": 6,
   "id": "d4bb5128-1b5a-433a-922b-db08493bfa8d",
   "metadata": {},
   "outputs": [],
   "source": [
    "def get_hamming_dist(input_string):\n",
    "    dna = input_string.split(\"\\n\")\n",
    "    s = dna[0]\n",
    "    t = dna[1]\n",
    "\n",
    "    diff_cnt = 0\n",
    "    for sym1, sym2 in zip(s, t):\n",
    "        if sym1 != sym2:\n",
    "            diff_cnt += 1\n",
    "    return diff_cnt"
   ]
  },
  {
   "cell_type": "code",
   "execution_count": 7,
   "id": "11caf0ff-0c7d-43f0-9ebd-a8ad69f8aa91",
   "metadata": {},
   "outputs": [
    {
     "name": "stdout",
     "output_type": "stream",
     "text": [
      "7\n"
     ]
    }
   ],
   "source": [
    "sample_input = \"\"\"GAGCCTACTAACGGGAT\n",
    "CATCGTAATGACGGCCT\"\"\"\n",
    "expected_output = 7\n",
    "output = get_hamming_dist(sample_input)\n",
    "print(output)\n",
    "assert output == expected_output"
   ]
  },
  {
   "cell_type": "code",
   "execution_count": 8,
   "id": "8891526a-96b8-43ca-ac07-d456f424da1e",
   "metadata": {},
   "outputs": [
    {
     "name": "stdout",
     "output_type": "stream",
     "text": [
      "502\n"
     ]
    }
   ],
   "source": [
    "fn = \"data/rosalind_hamm.txt\"\n",
    "with open(fn, \"r\") as file:\n",
    "    input_str = file.read().strip()\n",
    "\n",
    "print(get_hamming_dist(input_str))"
   ]
  },
  {
   "cell_type": "code",
   "execution_count": null,
   "id": "cdb99834-011a-4a91-8555-bddee8af0d8b",
   "metadata": {},
   "outputs": [],
   "source": []
  }
 ],
 "metadata": {
  "kernelspec": {
   "display_name": "Python 3 (ipykernel)",
   "language": "python",
   "name": "python3"
  },
  "language_info": {
   "codemirror_mode": {
    "name": "ipython",
    "version": 3
   },
   "file_extension": ".py",
   "mimetype": "text/x-python",
   "name": "python",
   "nbconvert_exporter": "python",
   "pygments_lexer": "ipython3",
   "version": "3.11.5"
  }
 },
 "nbformat": 4,
 "nbformat_minor": 5
}
