{
 "cells": [
  {
   "cell_type": "markdown",
   "id": "f2d1ef17-fab2-4889-bd7d-679eff63fdda",
   "metadata": {},
   "source": [
    "# Translating RNA into Protein"
   ]
  },
  {
   "cell_type": "code",
   "execution_count": 11,
   "id": "bfadd163-30ab-451a-ac0c-fc13f71b5a4d",
   "metadata": {},
   "outputs": [],
   "source": [
    "CODON_TABLE = {\n",
    "    \"UUU\": \"F\",\n",
    "    \"UUC\": \"F\",\n",
    "    \"UUA\": \"L\",\n",
    "    \"UUG\": \"L\",\n",
    "    \"UCU\": \"S\",\n",
    "    \"UCC\": \"S\",\n",
    "    \"UCA\": \"S\",\n",
    "    \"UCG\": \"S\",\n",
    "    \"UAU\": \"Y\",\n",
    "    \"UAC\": \"Y\",\n",
    "    \"UAA\": \"Stop\",\n",
    "    \"UAG\": \"Stop\",\n",
    "    \"UGU\": \"C\",\n",
    "    \"UGC\": \"C\",\n",
    "    \"UGA\": \"Stop\",\n",
    "    \"UGG\": \"W\",\n",
    "    \"CUU\": \"L\",\n",
    "    \"CUC\": \"L\",\n",
    "    \"CUA\": \"L\",\n",
    "    \"CUG\": \"L\",\n",
    "    \"CCU\": \"P\",\n",
    "    \"CCC\": \"P\",\n",
    "    \"CCA\": \"P\",\n",
    "    \"CCG\": \"P\",\n",
    "    \"CAU\": \"H\",\n",
    "    \"CAC\": \"H\",\n",
    "    \"CAA\": \"Q\",\n",
    "    \"CAG\": \"Q\",\n",
    "    \"CGU\": \"R\",\n",
    "    \"CGC\": \"R\",\n",
    "    \"CGA\": \"R\",\n",
    "    \"CGG\": \"R\",\n",
    "    \"AUU\": \"I\",\n",
    "    \"AUC\": \"I\",\n",
    "    \"AUA\": \"I\",\n",
    "    \"AUG\": \"M\",\n",
    "    \"ACU\": \"T\",\n",
    "    \"ACC\": \"T\",\n",
    "    \"ACA\": \"T\",\n",
    "    \"ACG\": \"T\",\n",
    "    \"AAU\": \"N\",\n",
    "    \"AAC\": \"N\",\n",
    "    \"AAA\": \"K\",\n",
    "    \"AAG\": \"K\",\n",
    "    \"AGU\": \"S\",\n",
    "    \"AGC\": \"S\",\n",
    "    \"AGA\": \"R\",\n",
    "    \"AGG\": \"R\",\n",
    "    \"GUU\": \"V\",\n",
    "    \"GUC\": \"V\",\n",
    "    \"GUA\": \"V\",\n",
    "    \"GUG\": \"V\",\n",
    "    \"GCU\": \"A\",\n",
    "    \"GCC\": \"A\",\n",
    "    \"GCA\": \"A\",\n",
    "    \"GCG\": \"A\",\n",
    "    \"GAU\": \"D\",\n",
    "    \"GAC\": \"D\",\n",
    "    \"GAA\": \"E\",\n",
    "    \"GAG\": \"E\",\n",
    "    \"GGU\": \"G\",\n",
    "    \"GGC\": \"G\",\n",
    "    \"GGA\": \"G\",\n",
    "    \"GGG\": \"G\",\n",
    "}\n",
    "\n",
    "\n",
    "def encode_protein(s):\n",
    "    codon_size = 3\n",
    "    amino_acid_sequence = []\n",
    "\n",
    "    for i in range(0, len(s), codon_size):\n",
    "        codon = s[i : i + codon_size]\n",
    "\n",
    "        if codon in CODON_TABLE:\n",
    "            amino_acid = CODON_TABLE[codon]\n",
    "            if amino_acid == \"Stop\":\n",
    "                break\n",
    "            amino_acid_sequence.append(amino_acid)\n",
    "        else:\n",
    "            print(f\"Invalid codon: {codon}\")\n",
    "\n",
    "    return \"\".join(amino_acid_sequence)"
   ]
  },
  {
   "cell_type": "code",
   "execution_count": 12,
   "id": "200db5f2-b36a-4ec8-94e4-c17399132269",
   "metadata": {},
   "outputs": [
    {
     "name": "stdout",
     "output_type": "stream",
     "text": [
      "MAMAPRTEINSTRING\n"
     ]
    }
   ],
   "source": [
    "sample_input = \"AUGGCCAUGGCGCCCAGAACUGAGAUCAAUAGUACCCGUAUUAACGGGUGA\"\n",
    "expected_output = \"MAMAPRTEINSTRING\"\n",
    "output = encode_protein(sample_input)\n",
    "print(output)\n",
    "assert output == expected_output"
   ]
  },
  {
   "cell_type": "code",
   "execution_count": 14,
   "id": "fb36cc24-f222-4273-8f9e-543c36426bf8",
   "metadata": {},
   "outputs": [
    {
     "name": "stdout",
     "output_type": "stream",
     "text": [
      "MGALPSGSTKYPRNRSFTHQSCGQEDLRQSTASLLSLFKHLSGCNWLLKATRMVRPKVTRPAHDCKEHVPSTGQCHALQGEILNLTVIHLRNQCKYLLLPIRAAAKRVTFERTNARSRYHVTRMLAGEYWSLNRQRCVHGLLMGLLLLEYGFLAGDPQLRSVIFLRQESGGRMWPSCNMGNVDNYAAPDRSSYMGPDSSRARQIPLSENGSYSLDRKRCSHISSLSRNASMGFAAPDVPCLQQGLAFPYRLLSAQACTHRLGHIFCRRWTPHGSYLFQLRKILVRATSPPIVGRVLGMCLGLNINLVSGQCALTSHRNNDRSADLPRATSPTSLQALRLGGSSVIKPCQGNLYKSVELLKSEWSCQVFINRGEATAGGCILRYYIQLRQRCLCRSIAATEHSCDPVLLILSPSDLTSIDSVYITGQRAQVLTIATLVGQPRSCPIGRGGINKALADIEAPRMSAGRTASRVREGGINIRAIRAFTVLLVKRPAYESLNLWLGLLAELARGVEVPRSTMVHIAHSLDLSPRVPATFAEKISNYRDLGHQRSFFPATADSVTVRQKGGEEKLTSNKPPACLGTVHIFIYAHAMQAKGCGIVCVLLTLGLETNHAAGGAPTNRGASLRNSLLGRTSMLGLPYLVYSAGFHARSVTVGAILNRSDSNVPAPIVERRPNQPTTRDARSDAFRVRAAAGLLYKSISMSDRNQLLFLQSRPPGMYVQDWLARSRTSLRAVAAVMRGGITIILDAALASHMSTGASPYTCSLGIPASVPHPNHGHGRPYLHGCQTIVGYSRAALICISGPSGTNPWPGSCFGTTRFTIRRFQVETHRAELFVAEAINPQTKSHSRCGVCIVWRISPHSWWSRKSAGVQAACTWSMIKVVQSDAVLMRSLDLFNKRWDWTHEKEVMPTLSFGGRSRSVHAELSRSCVILLVVIGLSRRTSENTSKLPCADNHIGTFDDVGKAIGVTPGHFREADTAIRIREFAAPSIPVHADGFVGWVIPSFGECKGALKRPSCLSGLRQVLMRDGYLSIPKPTIQEPSLSSLLQTSRHAVYSRILHISGAPWASRGICSSFRLFVSPSSRFSYKRLEGDTRLLYKYLKAIRTFCVNKSARYRQRCMKTTGLVSLFKADAVPKTGNSAHGRCAWSEVPWQRFIANSTTGTGKHLIFWASPRHNVLVTIRSLASDDGPMSAMSLEPSLEDEKNATTGARSQVGHDLAMICTYPGFRTPQASTASMNEVVLVINDCERTKGALECGCITVCYQHTRLSCSKCPFRFTPPILFFTGRGRSLNLKLTRVAWARHAPASHSGTLTPPPLILILFTILYGYTKAIRARQHQGMQYSSQTLMRLLWQPGHGSVRLRGHRVTPQTSGKRAVRHWCCPGKHTLDDEYDNAPHVRLPAPELFVSWVCLVTNRCHRRGTLKEVAVGVPYEGRISTSYALGPRQGQDRPYIQGRNPQPPRTSANSPWRFGTPCIGCIFSRVRLPIHPYEYLGNQLTYETLTRNEGSRPVGCDNCVLLGGSLYEDVVASIICVTCSHHMKCPSGISGGFYNLLGLQGSYVGQVPASCPGVLYITRYQGITTPEKLVRVPGTVVIGADASVLAVAPVARYGLSLSPRRLKPTRISPEGIEPTDTPALFVTPPITVTVTLQGWGDLVSSLGRHSISHPVFYCSSLSWHVRLPIHSRALGPAYQTTWNFQSKRNWWIHTPGYQYRRYRAQTDLDELSPLWYMSRGQRAGGPRPFALPLLSGKEVRFTLIPLGMGRQITWESYALKLVILTMLQFVSRNLLHSNTEHLHNKYVYATGVHGKTNTSPIPLLCKPSAAWLLWRIATSRPFLQFARSERLRKGAQNKVLDRASTPEVLAGYHLKVETGTSPVRGYIRYRPKQSGNSTTFRLMKIARFHKLRWAFVRRQVTTQQIFIRTRHAKVLYTMNPWGRLCRVSTRGVAILDSTLNSYDRRRFALPPPVSHDYTRRTRILAKAGKAGRPDGKLHLSLLSPIVCGHDLTDPCEQSTFLDFPPLPVSHIPPSRLSAASSSRILTYTCTNRVDTGPRVNPPRISRARKVDKVRLFKRMARIQTNDVRYSILTDMTPEESVRFSITNHDPTSCWEAKMPPSADYAEGPARRWYGKPRRSMSFDAIKIYIRAFWAPIGQSRQLSVHDALCSLCTTAMYMAKSAPLGGLEHRHETFFKVRFKISIGLRVQQFRCVMRRHPGRDNLPLVKAQGTSPEHGTFNLLRCDGQTVLQWIGPTSSNAAPSMVGTRFLLTFMGVLSSTVAGALNNGATTPYLRGRWGRLRMELFTLTSLCRLLLLGVHRPSGWRSRPLISVNPPFRFTLIPTVMYVPYLSDVRAAIADIAPSTNMPRQPRAGRRRQGILLQRLATAVVTQDQVLDNIGVIIQLVCAQYTLAYRASTTTCSRRSLLEEYSVPIACTVTEYGVLPSDGCPPSHAHLVPHLCPYRRVSQLAAPVTISLYAKSVVDSEKCKPGVVTIPIPHCLLIRIVNILPGLTSHSETVLHLRTSDCTPNRDRKVASYEVPLVLTPVRRPPLLPLDHRAYSHARNANRALVNLLGLHGFNKNEQLLALTRMNVHEKYRTAISGNKIARQSRGGSTLPIIVDAMSRTSSNLMKATRWVPQSCLLLSPYMRPIVMKRVESDIQIQHSVRRCSPPNSGKFPQDICYPIVVDPGRTIPNNRRTLGKGIAPVDSRIWYSAVAGVSTARGVPHTKFKRIPRDYDTKVSRYSALMRIKCVASFGETLNASHATRMRDTSVSSAAAHLSYCQLKMTEQGGVDDAGGCNAPPKAAPQQGGGMGQACRQESEAHSLSCIRLYSKWNTGDGTAEAYRMTPQTKSGFTASIACQANRTPPVAVKAGRKGHIYFLNLRHSFLRHWRQQIKPIATRGHLFYLCLSSQIQPFLSIILQRRVYALWN\n"
     ]
    }
   ],
   "source": [
    "fn = \"data/rosalind_prot.txt\"\n",
    "with open(fn, \"r\") as file:\n",
    "    s = file.read().strip()\n",
    "\n",
    "print(encode_protein(s))"
   ]
  },
  {
   "cell_type": "code",
   "execution_count": null,
   "id": "57364f7c-3a41-425d-8c0f-533e89b1df15",
   "metadata": {},
   "outputs": [],
   "source": []
  }
 ],
 "metadata": {
  "kernelspec": {
   "display_name": "Python 3 (ipykernel)",
   "language": "python",
   "name": "python3"
  },
  "language_info": {
   "codemirror_mode": {
    "name": "ipython",
    "version": 3
   },
   "file_extension": ".py",
   "mimetype": "text/x-python",
   "name": "python",
   "nbconvert_exporter": "python",
   "pygments_lexer": "ipython3",
   "version": "3.11.5"
  }
 },
 "nbformat": 4,
 "nbformat_minor": 5
}
